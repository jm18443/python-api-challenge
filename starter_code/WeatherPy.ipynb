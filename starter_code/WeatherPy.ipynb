{
 "cells": [
  {
   "cell_type": "markdown",
   "metadata": {},
   "source": [
    "# WeatherPy\n",
    "----\n",
    "\n",
    "#### Note\n",
    "* Instructions have been included for each segment. You do not have to follow them exactly, but they are included to help you think through the steps."
   ]
  },
  {
   "cell_type": "code",
   "execution_count": 1,
   "metadata": {
    "scrolled": true
   },
   "outputs": [],
   "source": [
    "# Dependencies and Setup\n",
    "import matplotlib.pyplot as plt\n",
    "import pandas as pd\n",
    "import numpy as np\n",
    "import requests\n",
    "import time\n",
    "from scipy.stats import linregress\n",
    "import json\n",
    "\n",
    "# Import API key\n",
    "from api_keys import weather_api_key\n",
    "\n",
    "# Incorporated citipy to determine city based on latitude and longitude\n",
    "from citipy import citipy\n",
    "\n",
    "# Output File (CSV)\n",
    "output_data_file = \"output_data/cities.csv\"\n",
    "\n",
    "# Range of latitudes and longitudes\n",
    "lat_range = (-90, 90)\n",
    "lng_range = (-180, 180)"
   ]
  },
  {
   "cell_type": "markdown",
   "metadata": {},
   "source": [
    "## Generate Cities List"
   ]
  },
  {
   "cell_type": "code",
   "execution_count": 2,
   "metadata": {},
   "outputs": [
    {
     "data": {
      "text/plain": [
       "616"
      ]
     },
     "execution_count": 2,
     "metadata": {},
     "output_type": "execute_result"
    }
   ],
   "source": [
    "# List for holding lat_lngs and cities\n",
    "lat_lngs = []\n",
    "cities = []\n",
    "\n",
    "# Create a set of random lat and lng combinations\n",
    "lats = np.random.uniform(lat_range[0], lat_range[1], size=1500)\n",
    "lngs = np.random.uniform(lng_range[0], lng_range[1], size=1500)\n",
    "lat_lngs = zip(lats, lngs)\n",
    "\n",
    "# Identify nearest city for each lat, lng combination\n",
    "for lat_lng in lat_lngs:\n",
    "    city = citipy.nearest_city(lat_lng[0], lat_lng[1]).city_name\n",
    "    \n",
    "    # If the city is unique, then add it to a our cities list\n",
    "    if city not in cities:\n",
    "        cities.append(city)\n",
    "\n",
    "# Print the city count to confirm sufficient count\n",
    "len(cities)"
   ]
  },
  {
   "cell_type": "code",
   "execution_count": 3,
   "metadata": {},
   "outputs": [
    {
     "name": "stdout",
     "output_type": "stream",
     "text": [
      "98e0dc7f249b35bf6610a1fbb8fe3aba\n"
     ]
    }
   ],
   "source": [
    "\n",
    "print(weather_api_key)"
   ]
  },
  {
   "cell_type": "markdown",
   "metadata": {},
   "source": [
    "### Perform API Calls\n",
    "* Perform a weather check on each city using a series of successive API calls.\n",
    "* Include a print log of each city as it'sbeing processed (with the city number and city name).\n"
   ]
  },
  {
   "cell_type": "code",
   "execution_count": 5,
   "metadata": {
    "scrolled": true
   },
   "outputs": [
    {
     "name": "stdout",
     "output_type": "stream",
     "text": [
      "City not found. Skipping...\n",
      "Processing Record 1 of Set 1 | Ferrol\n",
      "Processing Record 2 of Set 2 | Kapaa\n",
      "City not found. Skipping...\n",
      "Processing Record 3 of Set 3 | Deep River\n",
      "Processing Record 4 of Set 4 | Ushuaia\n",
      "Processing Record 5 of Set 5 | Russellville\n",
      "Processing Record 6 of Set 6 | Nikolskoye\n",
      "Processing Record 7 of Set 7 | Mar del Plata\n",
      "Processing Record 8 of Set 8 | Santa Marinella\n",
      "Processing Record 9 of Set 9 | Rikitea\n",
      "Processing Record 10 of Set 10 | Puerto Ayora\n",
      "Processing Record 11 of Set 11 | Yellowknife\n",
      "Processing Record 12 of Set 12 | Bambous Virieux\n",
      "Processing Record 13 of Set 13 | Biak\n",
      "Processing Record 14 of Set 14 | Albany\n",
      "Processing Record 15 of Set 15 | San Fernando\n",
      "Processing Record 16 of Set 16 | Kenai\n",
      "Processing Record 17 of Set 17 | Castro\n",
      "Processing Record 18 of Set 18 | Inyonga\n",
      "Processing Record 19 of Set 19 | Cherskiy\n",
      "Processing Record 20 of Set 20 | Talas\n",
      "Processing Record 21 of Set 21 | Chubbuck\n",
      "Processing Record 22 of Set 22 | Pesochnoye\n",
      "Processing Record 23 of Set 23 | Ribeira Grande\n",
      "Processing Record 24 of Set 24 | Busselton\n",
      "Processing Record 25 of Set 25 | Broken Hill\n",
      "Processing Record 26 of Set 26 | Lavrentiya\n",
      "City not found. Skipping...\n",
      "Processing Record 27 of Set 27 | Acapulco de Juárez\n",
      "City not found. Skipping...\n",
      "Processing Record 28 of Set 28 | Pineville\n",
      "Processing Record 29 of Set 29 | Nevers\n",
      "Processing Record 30 of Set 30 | Punta Arenas\n",
      "Processing Record 31 of Set 31 | Atuona\n",
      "Processing Record 32 of Set 32 | Guerrero Negro\n",
      "Processing Record 33 of Set 33 | Peniche\n",
      "Processing Record 34 of Set 34 | Partizanskoye\n",
      "Processing Record 35 of Set 35 | Lebu\n",
      "Processing Record 36 of Set 36 | Bluff\n",
      "Processing Record 37 of Set 37 | Olafsvik\n",
      "Processing Record 38 of Set 38 | Saint-Philippe\n",
      "Processing Record 39 of Set 39 | Missoula\n",
      "Processing Record 40 of Set 40 | Tiksi\n",
      "Processing Record 41 of Set 41 | Concepción del Oro\n",
      "Processing Record 42 of Set 42 | Namatanai\n",
      "Processing Record 43 of Set 43 | Khvorostyanka\n",
      "Processing Record 44 of Set 44 | Mahina\n",
      "Processing Record 45 of Set 45 | New Norfolk\n",
      "Processing Record 46 of Set 46 | Kavieng\n",
      "Processing Record 47 of Set 47 | Swan Hill\n",
      "Processing Record 48 of Set 48 | Kemijärvi\n",
      "Processing Record 49 of Set 0 | Pisco\n",
      "Processing Record 50 of Set 1 | Arraial do Cabo\n",
      "Processing Record 51 of Set 2 | Padang\n",
      "Processing Record 52 of Set 3 | Pauini\n",
      "Processing Record 53 of Set 4 | Cape Town\n",
      "Processing Record 54 of Set 5 | Westerland\n",
      "Processing Record 55 of Set 6 | Aswān\n",
      "Processing Record 56 of Set 7 | Thompson\n",
      "Processing Record 57 of Set 8 | George Town\n",
      "Processing Record 58 of Set 9 | Saint George\n",
      "Processing Record 59 of Set 10 | Vaini\n",
      "Processing Record 60 of Set 11 | Aginskoye\n",
      "Processing Record 61 of Set 12 | Berlevåg\n",
      "City not found. Skipping...\n",
      "Processing Record 62 of Set 13 | Port Lincoln\n",
      "Processing Record 63 of Set 14 | Pedernales\n",
      "Processing Record 64 of Set 15 | Nome\n",
      "Processing Record 65 of Set 16 | Butaritari\n",
      "Processing Record 66 of Set 17 | Lázaro Cárdenas\n",
      "Processing Record 67 of Set 18 | Hilo\n",
      "Processing Record 68 of Set 19 | Tasiilaq\n",
      "Processing Record 69 of Set 20 | Catalina\n",
      "Processing Record 70 of Set 21 | Isangel\n",
      "Processing Record 71 of Set 22 | Khatanga\n",
      "Processing Record 72 of Set 23 | Būlaevo\n",
      "Processing Record 73 of Set 24 | São João da Barra\n",
      "Processing Record 74 of Set 25 | Manggar\n",
      "Processing Record 75 of Set 26 | Amahai\n",
      "Processing Record 76 of Set 27 | Zyryanka\n",
      "Processing Record 77 of Set 28 | Biltine\n",
      "City not found. Skipping...\n",
      "Processing Record 78 of Set 29 | Kruisfontein\n",
      "Processing Record 79 of Set 30 | Qaanaaq\n",
      "Processing Record 80 of Set 31 | Port Alfred\n",
      "Processing Record 81 of Set 32 | Libertador General San Martín\n",
      "Processing Record 82 of Set 33 | Saskylakh\n",
      "Processing Record 83 of Set 34 | Waipawa\n",
      "Processing Record 84 of Set 35 | Asău\n",
      "Processing Record 85 of Set 36 | Souillac\n",
      "Processing Record 86 of Set 37 | Bethel\n",
      "Processing Record 87 of Set 38 | Provideniya\n",
      "Processing Record 88 of Set 39 | Gornopravdinsk\n",
      "Processing Record 89 of Set 40 | Geraldton\n",
      "Processing Record 90 of Set 41 | Flin Flon\n",
      "Processing Record 91 of Set 42 | Mindelo\n",
      "Processing Record 92 of Set 43 | Gemeente Wageningen\n",
      "Processing Record 93 of Set 44 | Barrow\n",
      "Processing Record 94 of Set 45 | Togur\n",
      "Processing Record 95 of Set 46 | Brigantine\n",
      "Processing Record 96 of Set 47 | Port Elizabeth\n",
      "Processing Record 97 of Set 48 | Bengkulu\n",
      "Processing Record 98 of Set 0 | Vila Franca do Campo\n",
      "Processing Record 99 of Set 1 | Claremore\n",
      "Processing Record 100 of Set 2 | Constitución\n",
      "Processing Record 101 of Set 3 | Malé\n",
      "Processing Record 102 of Set 4 | Forsytheganj\n",
      "Processing Record 103 of Set 5 | Esperance\n",
      "Processing Record 104 of Set 6 | Altamont\n",
      "Processing Record 105 of Set 7 | Norman Wells\n",
      "Processing Record 106 of Set 8 | Tilichiki\n",
      "Processing Record 107 of Set 9 | Cayenne\n",
      "Processing Record 108 of Set 10 | La Quinta\n",
      "Processing Record 109 of Set 11 | Saint Paul Harbor\n",
      "Processing Record 110 of Set 12 | Faanui\n",
      "Processing Record 111 of Set 13 | Linköping\n",
      "Processing Record 112 of Set 14 | Akdepe\n",
      "Processing Record 113 of Set 15 | Avarua\n",
      "Processing Record 114 of Set 16 | Lata\n",
      "City not found. Skipping...\n",
      "Processing Record 115 of Set 17 | Ahipara\n",
      "Processing Record 116 of Set 18 | Northam\n",
      "City not found. Skipping...\n",
      "Processing Record 117 of Set 19 | Mataura\n",
      "Processing Record 118 of Set 20 | Jamestown\n",
      "Processing Record 119 of Set 21 | Keelung\n",
      "Processing Record 120 of Set 22 | Klaksvík\n",
      "Processing Record 121 of Set 23 | Aykhal\n",
      "Processing Record 122 of Set 24 | Tuktoyaktuk\n",
      "Processing Record 123 of Set 25 | Ponta do Sol\n",
      "Processing Record 124 of Set 26 | Bilma\n",
      "Processing Record 125 of Set 27 | Águas Vermelhas\n",
      "Processing Record 126 of Set 28 | Ucluelet\n",
      "Processing Record 127 of Set 29 | Abū Zabad\n",
      "City not found. Skipping...\n",
      "Processing Record 128 of Set 30 | Ossora\n",
      "Processing Record 129 of Set 31 | Clarence Town\n",
      "Processing Record 130 of Set 32 | Tuatapere\n",
      "Processing Record 131 of Set 33 | East London\n",
      "Processing Record 132 of Set 34 | Katsuura\n",
      "Processing Record 133 of Set 35 | Mahébourg\n",
      "Processing Record 134 of Set 36 | Hermanus\n",
      "Processing Record 135 of Set 37 | Lichinga\n",
      "Processing Record 136 of Set 38 | Vardø\n",
      "Processing Record 137 of Set 39 | Kasongo-Lunda\n",
      "Processing Record 138 of Set 40 | Plouzané\n",
      "Processing Record 139 of Set 41 | Hithadhoo\n",
      "Processing Record 140 of Set 42 | Okhotsk\n",
      "Processing Record 141 of Set 43 | Carberry\n",
      "Processing Record 142 of Set 44 | College\n",
      "Processing Record 143 of Set 45 | Vestmannaeyjar\n",
      "Processing Record 144 of Set 46 | Srīnivāspur\n",
      "Processing Record 145 of Set 47 | Ketchikan\n",
      "Processing Record 146 of Set 48 | Longyearbyen\n",
      "City not found. Skipping...\n",
      "Processing Record 147 of Set 0 | Kungurtug\n",
      "Processing Record 148 of Set 1 | Porto Nacional\n",
      "Processing Record 149 of Set 2 | Fort Abbas\n",
      "Processing Record 150 of Set 3 | Celano\n",
      "Processing Record 151 of Set 4 | Upernavik\n",
      "Processing Record 152 of Set 5 | Leningradskiy\n",
      "Processing Record 153 of Set 6 | Hasaki\n",
      "Processing Record 154 of Set 7 | Havelock\n",
      "Processing Record 155 of Set 8 | Nerchinskiy Zavod\n",
      "Processing Record 156 of Set 9 | Puerto Parra\n",
      "Processing Record 157 of Set 10 | Stratoni\n",
      "Processing Record 158 of Set 11 | Horlivka\n",
      "Processing Record 159 of Set 12 | Ambulu\n",
      "Processing Record 160 of Set 13 | Kaitangata\n",
      "Processing Record 161 of Set 14 | Chui\n",
      "Processing Record 162 of Set 15 | Tevaitoa\n",
      "Processing Record 163 of Set 16 | Wewak\n",
      "Processing Record 164 of Set 17 | Conde\n",
      "Processing Record 165 of Set 18 | Ilulissat\n",
      "Processing Record 166 of Set 19 | Thinadhoo\n",
      "Processing Record 167 of Set 20 | Margate\n",
      "Processing Record 168 of Set 21 | Foça\n",
      "Processing Record 169 of Set 22 | Corbeil-Essonnes\n",
      "City not found. Skipping...\n",
      "Processing Record 170 of Set 23 | Severo-Kuril'sk\n",
      "Processing Record 171 of Set 24 | Ostrovnoy\n",
      "Processing Record 172 of Set 25 | Santo Amaro da Imperatriz\n",
      "City not found. Skipping...\n",
      "City not found. Skipping...\n",
      "Processing Record 173 of Set 26 | Hong Kong\n",
      "Processing Record 174 of Set 27 | Marsá Maţrūḩ\n",
      "Processing Record 175 of Set 28 | Dudinka\n",
      "Processing Record 176 of Set 29 | Marsaxlokk\n",
      "Processing Record 177 of Set 30 | Gaoua\n",
      "Processing Record 178 of Set 31 | Kourou\n",
      "Processing Record 179 of Set 32 | Ongandjera\n",
      "Processing Record 180 of Set 33 | Avera\n",
      "Processing Record 181 of Set 34 | Moree\n"
     ]
    },
    {
     "name": "stdout",
     "output_type": "stream",
     "text": [
      "Processing Record 182 of Set 35 | Keetmanshoop\n",
      "Processing Record 183 of Set 36 | Kumul\n",
      "Processing Record 184 of Set 37 | Cidreira\n",
      "City not found. Skipping...\n",
      "Processing Record 185 of Set 38 | Buta\n",
      "Processing Record 186 of Set 39 | Bredasdorp\n",
      "Processing Record 187 of Set 40 | Māngrol\n",
      "Processing Record 188 of Set 41 | Bulawayo\n",
      "Processing Record 189 of Set 42 | Cervo\n",
      "Processing Record 190 of Set 43 | Hobart\n",
      "Processing Record 191 of Set 44 | Fernley\n",
      "City not found. Skipping...\n",
      "Processing Record 192 of Set 45 | Sept-Îles\n",
      "Processing Record 193 of Set 46 | Agadez\n",
      "Processing Record 194 of Set 47 | Jalu\n",
      "Processing Record 195 of Set 48 | Susaki\n",
      "Processing Record 196 of Set 0 | Rocha\n",
      "Processing Record 197 of Set 1 | Pemangkat\n",
      "Processing Record 198 of Set 2 | Parīchhatgarh\n",
      "Processing Record 199 of Set 3 | Galatista\n",
      "Processing Record 200 of Set 4 | Havre-St-Pierre\n",
      "Processing Record 201 of Set 5 | Guayaramerín\n",
      "City not found. Skipping...\n",
      "Processing Record 202 of Set 6 | Salamiyah\n",
      "Processing Record 203 of Set 7 | Ca Mau\n",
      "City not found. Skipping...\n",
      "Processing Record 204 of Set 8 | Clyde River\n",
      "Processing Record 205 of Set 9 | Kangaatsiaq\n",
      "Processing Record 206 of Set 10 | Kalmunai\n",
      "Processing Record 207 of Set 11 | Itacurubí del Rosario\n",
      "Processing Record 208 of Set 12 | Hervey Bay\n",
      "Processing Record 209 of Set 13 | Lusambo\n",
      "Processing Record 210 of Set 14 | Sitka\n",
      "City not found. Skipping...\n",
      "City not found. Skipping...\n",
      "Processing Record 211 of Set 15 | Upata\n",
      "Processing Record 212 of Set 16 | Puerto El Triunfo\n",
      "City not found. Skipping...\n",
      "Processing Record 213 of Set 17 | Yangi Marg`ilon\n",
      "Processing Record 214 of Set 18 | Örnsköldsvik\n",
      "Processing Record 215 of Set 19 | Santa Isabel\n",
      "Processing Record 216 of Set 20 | Cabo San Lucas\n",
      "Processing Record 217 of Set 21 | Mahon\n",
      "Processing Record 218 of Set 22 | Sabang\n",
      "Processing Record 219 of Set 23 | Kantunilkín\n",
      "Processing Record 220 of Set 24 | Port Hardy\n",
      "Processing Record 221 of Set 25 | Meru\n",
      "City not found. Skipping...\n",
      "Processing Record 222 of Set 26 | Los Llanos de Aridane\n",
      "Processing Record 223 of Set 27 | Jiuquan\n",
      "Processing Record 224 of Set 28 | Kathmandu\n",
      "Processing Record 225 of Set 29 | Dikson\n",
      "Processing Record 226 of Set 30 | Torbay\n",
      "Processing Record 227 of Set 31 | Tezu\n",
      "Processing Record 228 of Set 32 | Invermere\n",
      "Processing Record 229 of Set 33 | Alice Springs\n",
      "Processing Record 230 of Set 34 | Aquin\n",
      "City not found. Skipping...\n",
      "Processing Record 231 of Set 35 | Batavia\n",
      "Processing Record 232 of Set 36 | Mount Gambier\n",
      "Processing Record 233 of Set 37 | North Bend\n",
      "Processing Record 234 of Set 38 | Satipo\n",
      "Processing Record 235 of Set 39 | Chokurdakh\n",
      "Processing Record 236 of Set 40 | Nuuk\n",
      "Processing Record 237 of Set 41 | Emmett\n",
      "Processing Record 238 of Set 42 | Airai\n",
      "Processing Record 239 of Set 43 | Hurghada\n",
      "Processing Record 240 of Set 44 | Chebsara\n",
      "Processing Record 241 of Set 45 | Porto Murtinho\n",
      "City not found. Skipping...\n",
      "City not found. Skipping...\n",
      "Processing Record 242 of Set 46 | Piaçabuçu\n",
      "Processing Record 243 of Set 47 | Husavik\n",
      "Processing Record 244 of Set 48 | Safi\n",
      "Processing Record 245 of Set 0 | Ulladulla\n",
      "Processing Record 246 of Set 1 | Eureka\n",
      "Processing Record 247 of Set 2 | Yumen\n",
      "Processing Record 248 of Set 3 | Kuandian\n",
      "Processing Record 249 of Set 4 | Hobyo\n",
      "Processing Record 250 of Set 5 | Hatillo\n",
      "Processing Record 251 of Set 6 | Douentza\n",
      "Processing Record 252 of Set 7 | Arinos\n",
      "Processing Record 253 of Set 8 | Jesup\n",
      "Processing Record 254 of Set 9 | Richards Bay\n",
      "Processing Record 255 of Set 10 | Moyale\n",
      "Processing Record 256 of Set 11 | Mt. Pleasant\n",
      "City not found. Skipping...\n",
      "Processing Record 257 of Set 12 | Dapaong\n",
      "City not found. Skipping...\n",
      "Processing Record 258 of Set 13 | Coyhaique\n",
      "Processing Record 259 of Set 14 | Fourmies\n",
      "Processing Record 260 of Set 15 | Cockburn Town\n",
      "City not found. Skipping...\n",
      "Processing Record 261 of Set 16 | Maltahöhe\n",
      "Processing Record 262 of Set 17 | Antofagasta\n",
      "Processing Record 263 of Set 18 | Labuhan\n",
      "Processing Record 264 of Set 19 | Vao\n",
      "Processing Record 265 of Set 20 | Baiyin\n",
      "Processing Record 266 of Set 21 | Tigbinan\n",
      "Processing Record 267 of Set 22 | Formosa do Rio Preto\n",
      "Processing Record 268 of Set 23 | Portland\n",
      "Processing Record 269 of Set 24 | Cap Malheureux\n",
      "Processing Record 270 of Set 25 | Narsaq\n",
      "Processing Record 271 of Set 26 | Sumenep\n",
      "Processing Record 272 of Set 27 | Copiapó\n",
      "Processing Record 273 of Set 28 | Alofi\n",
      "Processing Record 274 of Set 29 | Aloleng\n",
      "Processing Record 275 of Set 30 | Rio Grande\n",
      "City not found. Skipping...\n",
      "Processing Record 276 of Set 31 | Glenwood Springs\n",
      "Processing Record 277 of Set 32 | Key Largo\n",
      "Processing Record 278 of Set 33 | Hūn\n",
      "Processing Record 279 of Set 34 | Atikokan\n",
      "Processing Record 280 of Set 35 | Hambantota\n",
      "Processing Record 281 of Set 36 | Beringovskiy\n",
      "Processing Record 282 of Set 37 | Auki\n",
      "Processing Record 283 of Set 38 | Neuquén\n",
      "City not found. Skipping...\n",
      "Processing Record 284 of Set 39 | Taltal\n",
      "Processing Record 285 of Set 40 | Riohacha\n",
      "Processing Record 286 of Set 41 | Tromsø\n",
      "Processing Record 287 of Set 42 | Rørvik\n",
      "Processing Record 288 of Set 43 | Carnarvon\n",
      "Processing Record 289 of Set 44 | Kropachëvo\n",
      "Processing Record 290 of Set 45 | Berbera\n",
      "Processing Record 291 of Set 46 | Vanavara\n",
      "Processing Record 292 of Set 47 | Saint-Joseph\n",
      "Processing Record 293 of Set 48 | Makat\n",
      "Processing Record 294 of Set 0 | Oranjemund\n",
      "Processing Record 295 of Set 1 | Inhambane\n",
      "Processing Record 296 of Set 2 | Saint-Pierre\n",
      "Processing Record 297 of Set 3 | Härnösand\n",
      "Processing Record 298 of Set 4 | Caravelas\n",
      "Processing Record 299 of Set 5 | Pandharpur\n",
      "Processing Record 300 of Set 6 | Kontagora\n",
      "Processing Record 301 of Set 7 | Porto-Novo\n",
      "Processing Record 302 of Set 8 | Burley\n",
      "Processing Record 303 of Set 9 | Vanderhoof\n",
      "Processing Record 304 of Set 10 | Panjāb\n",
      "Processing Record 305 of Set 11 | Fuerte Olimpo\n",
      "Processing Record 306 of Set 12 | Hanstholm\n",
      "Processing Record 307 of Set 13 | ‘Āhuimanu\n",
      "Processing Record 308 of Set 14 | Henties Bay\n",
      "Processing Record 309 of Set 15 | Gōtsuchō\n",
      "Processing Record 310 of Set 16 | Lorengau\n",
      "Processing Record 311 of Set 17 | Gwadar\n",
      "Processing Record 312 of Set 18 | Yelizovo\n",
      "Processing Record 313 of Set 19 | Mezen'\n",
      "Processing Record 314 of Set 20 | Puerto del Rosario\n",
      "Processing Record 315 of Set 21 | Harper\n",
      "Processing Record 316 of Set 22 | Pimentel\n",
      "Processing Record 317 of Set 23 | Nokia\n",
      "Processing Record 318 of Set 24 | Rawson\n",
      "Processing Record 319 of Set 25 | Seymchan\n",
      "Processing Record 320 of Set 26 | Qaqortoq\n",
      "Processing Record 321 of Set 27 | Kikwit\n",
      "Processing Record 322 of Set 28 | San Patricio\n",
      "Processing Record 323 of Set 29 | Zhanakorgan\n",
      "City not found. Skipping...\n",
      "Processing Record 324 of Set 30 | Tateyama\n",
      "Processing Record 325 of Set 31 | Oistins\n",
      "Processing Record 326 of Set 32 | Woodend\n",
      "Processing Record 327 of Set 33 | Saint-Augustin\n",
      "Processing Record 328 of Set 34 | Semporna\n",
      "Processing Record 329 of Set 35 | Ginir\n",
      "Processing Record 330 of Set 36 | Ciudad Bolivar\n",
      "Processing Record 331 of Set 37 | Singleton\n",
      "Processing Record 332 of Set 38 | Winnemucca\n",
      "Processing Record 333 of Set 39 | Lompoc\n",
      "Processing Record 334 of Set 40 | Zhezkazgan\n",
      "Processing Record 335 of Set 41 | Sisophon\n",
      "Processing Record 336 of Set 42 | Grindavik\n",
      "City not found. Skipping...\n",
      "Processing Record 337 of Set 43 | Palmer\n",
      "Processing Record 338 of Set 44 | Florence\n",
      "Processing Record 339 of Set 45 | Charagua\n",
      "Processing Record 340 of Set 46 | Nizhniy Kuranakh\n",
      "Processing Record 341 of Set 47 | Praia\n",
      "Processing Record 342 of Set 48 | Songea\n",
      "Processing Record 343 of Set 0 | Bathsheba\n",
      "Processing Record 344 of Set 1 | Pevek\n",
      "Processing Record 345 of Set 2 | Sørland\n",
      "Processing Record 346 of Set 3 | Balkanabat\n",
      "Processing Record 347 of Set 4 | Ancud\n",
      "Processing Record 348 of Set 5 | St. George's\n",
      "Processing Record 349 of Set 6 | Lüderitz\n",
      "Processing Record 350 of Set 7 | Udachny\n",
      "Processing Record 351 of Set 8 | Sittwe\n",
      "Processing Record 352 of Set 9 | Egvekinot\n",
      "Processing Record 353 of Set 10 | Port-Gentil\n",
      "Processing Record 354 of Set 11 | Zhalantun\n",
      "Processing Record 355 of Set 12 | Sayyan\n",
      "Processing Record 356 of Set 13 | Bougouni\n",
      "Processing Record 357 of Set 14 | Meulaboh\n",
      "Processing Record 358 of Set 15 | Dingle\n",
      "Processing Record 359 of Set 16 | Bartlesville\n"
     ]
    },
    {
     "name": "stdout",
     "output_type": "stream",
     "text": [
      "Processing Record 360 of Set 17 | Gondanglegi\n",
      "Processing Record 361 of Set 18 | Kamenka\n",
      "Processing Record 362 of Set 19 | Petropavlovsk-Kamchatskiy\n",
      "City not found. Skipping...\n",
      "Processing Record 363 of Set 20 | Kaoma\n",
      "City not found. Skipping...\n",
      "Processing Record 364 of Set 21 | Sirte\n",
      "Processing Record 365 of Set 22 | Emporia\n",
      "Processing Record 366 of Set 23 | Nizhniy Baskunchak\n",
      "Processing Record 367 of Set 24 | Valparaíso\n",
      "Processing Record 368 of Set 25 | Prymors'k\n",
      "Processing Record 369 of Set 26 | Gladstone\n",
      "Processing Record 370 of Set 27 | Banjar\n",
      "Processing Record 371 of Set 28 | Krasnosel'kup\n",
      "Processing Record 372 of Set 29 | Itamarandiba\n",
      "Processing Record 373 of Set 30 | Adrar\n",
      "Processing Record 374 of Set 31 | Wagar\n",
      "Processing Record 375 of Set 32 | Belmonte\n",
      "Processing Record 376 of Set 33 | Grand Gaube\n",
      "Processing Record 377 of Set 34 | Aktau\n",
      "Processing Record 378 of Set 35 | Iringa\n",
      "Processing Record 379 of Set 36 | Bratsk\n",
      "Processing Record 380 of Set 37 | Gorūr\n",
      "Processing Record 381 of Set 38 | Port Macquarie\n",
      "Processing Record 382 of Set 39 | Yeppoon\n",
      "Processing Record 383 of Set 40 | Kharan\n",
      "City not found. Skipping...\n",
      "Processing Record 384 of Set 41 | Carutapera\n",
      "Processing Record 385 of Set 42 | Grants\n",
      "Processing Record 386 of Set 43 | Marzuq\n",
      "Processing Record 387 of Set 44 | Hamilton\n",
      "Processing Record 388 of Set 45 | Lufilufi\n",
      "Processing Record 389 of Set 46 | Buraidah\n",
      "Processing Record 390 of Set 47 | Soyo\n",
      "Processing Record 391 of Set 48 | Huntsville\n",
      "Processing Record 392 of Set 0 | Port Moresby\n",
      "Processing Record 393 of Set 1 | Samarai\n",
      "Processing Record 394 of Set 2 | Wajima\n",
      "Processing Record 395 of Set 3 | Morris\n",
      "Processing Record 396 of Set 4 | Anadyr\n",
      "Processing Record 397 of Set 5 | Ngunguru\n",
      "Processing Record 398 of Set 6 | Cisarua\n",
      "Processing Record 399 of Set 7 | Laas\n",
      "Processing Record 400 of Set 8 | Kimbe\n",
      "Processing Record 401 of Set 9 | Zharkent\n",
      "Processing Record 402 of Set 10 | Taoudenni\n",
      "Processing Record 403 of Set 11 | Al'met'yevsk\n",
      "Processing Record 404 of Set 12 | Kahului\n",
      "City not found. Skipping...\n",
      "Processing Record 405 of Set 13 | Denizli Province\n",
      "Processing Record 406 of Set 14 | Rio Claro\n",
      "City not found. Skipping...\n",
      "Processing Record 407 of Set 15 | Norfolk\n",
      "Processing Record 408 of Set 16 | Qandala\n",
      "Processing Record 409 of Set 17 | Venado Tuerto\n",
      "Processing Record 410 of Set 18 | Hualmay\n",
      "Processing Record 411 of Set 19 | Aubenas\n",
      "Processing Record 412 of Set 20 | Nouadhibou\n",
      "City not found. Skipping...\n",
      "Processing Record 413 of Set 21 | Weihe\n",
      "Processing Record 414 of Set 22 | Arkhara\n",
      "Processing Record 415 of Set 23 | Nakamura\n",
      "Processing Record 416 of Set 24 | Kano\n",
      "Processing Record 417 of Set 25 | Puerto Asís\n",
      "City not found. Skipping...\n",
      "Processing Record 418 of Set 26 | Salalah\n",
      "Processing Record 419 of Set 27 | São Filipe\n",
      "Processing Record 420 of Set 28 | Gravdal\n",
      "Processing Record 421 of Set 29 | Oddur\n",
      "Processing Record 422 of Set 30 | Ranong\n",
      "Processing Record 423 of Set 31 | Mayo\n",
      "Processing Record 424 of Set 32 | Aguada de Pasajeros\n",
      "Processing Record 425 of Set 33 | Atambua\n",
      "Processing Record 426 of Set 34 | Mooresville\n",
      "Processing Record 427 of Set 35 | Te Anau\n",
      "Processing Record 428 of Set 36 | Iqaluit\n",
      "Processing Record 429 of Set 37 | Lubao\n",
      "Processing Record 430 of Set 38 | Florianópolis\n",
      "Processing Record 431 of Set 39 | Jiexiu\n",
      "Processing Record 432 of Set 40 | Ko Samui\n",
      "Processing Record 433 of Set 41 | Mīnāb\n",
      "Processing Record 434 of Set 42 | Feroke\n",
      "Processing Record 435 of Set 43 | Kawalu\n",
      "Processing Record 436 of Set 44 | Maniitsoq\n",
      "Processing Record 437 of Set 45 | Airdrie\n",
      "Processing Record 438 of Set 46 | Martil\n",
      "Processing Record 439 of Set 47 | Sibu\n",
      "Processing Record 440 of Set 48 | Chenghai\n",
      "Processing Record 441 of Set 0 | Hay River\n",
      "Processing Record 442 of Set 1 | Mossamedes\n",
      "Processing Record 443 of Set 2 | Banda Aceh\n",
      "Processing Record 444 of Set 3 | Stromness\n",
      "City not found. Skipping...\n",
      "Processing Record 445 of Set 4 | Elko\n",
      "Processing Record 446 of Set 5 | Sachīn\n",
      "Processing Record 447 of Set 6 | Kushmurun\n",
      "Processing Record 448 of Set 7 | Korla\n",
      "City not found. Skipping...\n",
      "Processing Record 449 of Set 8 | Lobito\n",
      "Processing Record 450 of Set 9 | Abu Samrah\n",
      "Processing Record 451 of Set 10 | Liverpool\n",
      "Processing Record 452 of Set 11 | Motygino\n",
      "Processing Record 453 of Set 12 | Port Keats\n",
      "Processing Record 454 of Set 13 | Fare\n",
      "Processing Record 455 of Set 14 | Gawler\n",
      "City not found. Skipping...\n",
      "Processing Record 456 of Set 15 | Murakami\n",
      "Processing Record 457 of Set 16 | Derzhavīnsk\n",
      "Processing Record 458 of Set 17 | Midyat\n",
      "City not found. Skipping...\n",
      "Processing Record 459 of Set 18 | Port Hedland\n",
      "Processing Record 460 of Set 19 | Drinovci\n",
      "Processing Record 461 of Set 20 | Lethem\n",
      "Processing Record 462 of Set 21 | Iralaya\n",
      "Processing Record 463 of Set 22 | Yeniseysk\n",
      "Processing Record 464 of Set 23 | Leh\n",
      "Processing Record 465 of Set 24 | Yatou\n",
      "Processing Record 466 of Set 25 | Saint-François\n",
      "Processing Record 467 of Set 26 | Itapuí\n",
      "Processing Record 468 of Set 27 | Iranshahr\n",
      "Processing Record 469 of Set 28 | Nishihara\n",
      "Processing Record 470 of Set 29 | Birjand\n",
      "Processing Record 471 of Set 30 | Fukuechō\n",
      "Processing Record 472 of Set 31 | Bubaque\n",
      "Processing Record 473 of Set 32 | Dobroye\n",
      "Processing Record 474 of Set 33 | Kyren\n",
      "Processing Record 475 of Set 34 | Brookhaven\n",
      "Processing Record 476 of Set 35 | Ati\n",
      "Processing Record 477 of Set 36 | Yining\n",
      "Processing Record 478 of Set 37 | Haines Junction\n",
      "Processing Record 479 of Set 38 | Āsosa\n",
      "Processing Record 480 of Set 39 | Tororo\n",
      "Processing Record 481 of Set 40 | Bahía Blanca\n",
      "Processing Record 482 of Set 41 | Fuxin\n",
      "Processing Record 483 of Set 42 | Oga\n",
      "Processing Record 484 of Set 43 | Kiryat Gat\n",
      "Processing Record 485 of Set 44 | Kūhdasht\n",
      "Processing Record 486 of Set 45 | Ust-Tsilma\n",
      "Processing Record 487 of Set 46 | Marawi\n",
      "City not found. Skipping...\n",
      "Processing Record 488 of Set 47 | Antequera\n",
      "Processing Record 489 of Set 48 | Aklavik\n",
      "Processing Record 490 of Set 0 | Santa Rita Arriba\n",
      "Processing Record 491 of Set 1 | Siljan\n",
      "Processing Record 492 of Set 2 | Deputatsky\n",
      "Processing Record 493 of Set 3 | Eastbourne\n",
      "City not found. Skipping...\n",
      "Processing Record 494 of Set 4 | Gilgit\n",
      "Processing Record 495 of Set 5 | Bakel\n",
      "Processing Record 496 of Set 6 | Estômbar\n",
      "Processing Record 497 of Set 7 | Xinzhou\n",
      "Processing Record 498 of Set 8 | Cancún\n",
      "Processing Record 499 of Set 9 | Santa Cruz de la Sierra\n",
      "Processing Record 500 of Set 10 | Aksu\n",
      "Processing Record 501 of Set 11 | Russell\n",
      "Processing Record 502 of Set 12 | Lagoa\n",
      "Processing Record 503 of Set 13 | Ponta Delgada\n",
      "Processing Record 504 of Set 14 | Florø\n",
      "Processing Record 505 of Set 15 | Nizwá\n",
      "Processing Record 506 of Set 16 | Bertoua\n",
      "Processing Record 507 of Set 17 | Denpasar\n",
      "Processing Record 508 of Set 18 | Letlhakane\n",
      "Processing Record 509 of Set 19 | Paragominas\n",
      "Processing Record 510 of Set 20 | Río Gallegos\n",
      "Processing Record 511 of Set 21 | Jerusalem\n",
      "Processing Record 512 of Set 22 | Mandalgovi\n",
      "Processing Record 513 of Set 23 | Noyabrsk\n",
      "Processing Record 514 of Set 24 | Dzhebariki-Khaya\n",
      "Processing Record 515 of Set 25 | Ilhabela\n",
      "Processing Record 516 of Set 26 | Shakhun'ya\n",
      "Processing Record 517 of Set 27 | Manbij\n",
      "Processing Record 518 of Set 28 | Talaya\n",
      "Processing Record 519 of Set 29 | Toamasina\n",
      "City not found. Skipping...\n",
      "Processing Record 520 of Set 30 | Dakar\n",
      "Processing Record 521 of Set 31 | Bria\n",
      "Processing Record 522 of Set 32 | Mitsamiouli\n",
      "Processing Record 523 of Set 33 | Sikasso\n",
      "Processing Record 524 of Set 34 | Gboko\n",
      "Processing Record 525 of Set 35 | La Paz\n",
      "Processing Record 526 of Set 36 | Roskilde\n",
      "Processing Record 527 of Set 37 | Najrān\n",
      "Processing Record 528 of Set 38 | Potsdam\n",
      "Processing Record 529 of Set 39 | Caranavi\n",
      "Processing Record 530 of Set 40 | Pacific Grove\n",
      "Processing Record 531 of Set 41 | Indramayu\n",
      "Processing Record 532 of Set 42 | Ixtapa\n",
      "Processing Record 533 of Set 43 | Pichayevo\n",
      "Processing Record 534 of Set 44 | Angoche\n",
      "Processing Record 535 of Set 45 | Quang Ngai\n",
      "Processing Record 536 of Set 46 | Mednogorskiy\n",
      "Processing Record 537 of Set 47 | Savonlinna\n",
      "Processing Record 538 of Set 48 | Vaitape\n",
      "Processing Record 539 of Set 0 | Pentecoste\n",
      "Processing Record 540 of Set 1 | Tarakan\n",
      "Processing Record 541 of Set 2 | Atar\n"
     ]
    },
    {
     "name": "stdout",
     "output_type": "stream",
     "text": [
      "Processing Record 542 of Set 3 | Madimba\n",
      "Processing Record 543 of Set 4 | Port Augusta\n",
      "Processing Record 544 of Set 5 | Alberton\n",
      "Processing Record 545 of Set 6 | Bac Lieu\n",
      "City not found. Skipping...\n",
      "Processing Record 546 of Set 7 | Saldanha\n",
      "Processing Record 547 of Set 8 | Mulegé\n",
      "Processing Record 548 of Set 9 | Tual\n",
      "Processing Record 549 of Set 10 | Yuanping\n",
      "Processing Record 550 of Set 11 | Paracuru\n",
      "Processing Record 551 of Set 12 | Kuril'sk\n",
      "Processing Record 552 of Set 13 | Digras\n",
      "Processing Record 553 of Set 14 | Acaraú\n",
      "Processing Record 554 of Set 15 | Kuminskiy\n",
      "Processing Record 555 of Set 16 | Atasū\n",
      "Processing Record 556 of Set 17 | Juba\n",
      "Processing Record 557 of Set 18 | Vangaindrano\n",
      "Processing Record 558 of Set 19 | Santa Maria\n",
      "Processing Record 559 of Set 20 | Mankono\n",
      "Processing Record 560 of Set 21 | Lunca de Jos\n",
      "Processing Record 561 of Set 22 | Jinchang\n",
      "Processing Record 562 of Set 23 | Rotifunk\n",
      "Processing Record 563 of Set 24 | Lagunas\n",
      "Processing Record 564 of Set 25 | Gorontalo\n",
      "Processing Record 565 of Set 26 | Thunder Bay\n",
      "Processing Record 566 of Set 27 | Cruzeiro do Sul\n",
      "Processing Record 567 of Set 28 | Concordia\n",
      "City not found. Skipping...\n",
      "City not found. Skipping...\n",
      "Processing Record 568 of Set 29 | Kolyvan'\n"
     ]
    }
   ],
   "source": [
    "url = \"http://api.openweathermap.org/data/2.5/weather?\"\n",
    "\n",
    "# Set empty lists to hold\n",
    "city_name = []\n",
    "country = []\n",
    "date = []\n",
    "latitude = []\n",
    "longitude = []\n",
    "max_temperature = []\n",
    "humidity = []\n",
    "cloudiness = []\n",
    "wind_speed = []\n",
    "proc_num = 0\n",
    "set_num = 1\n",
    "# Loop through each character\n",
    "for city in cities:\n",
    "    \n",
    "    # Create search query, make request and store in json\n",
    "    units = \"imperial\"\n",
    "    query = f\"{url}appid={weather_api_key}&units={units}&q=\"\n",
    "    response = requests.get(query + city)\n",
    "    response_json = response.json()\n",
    "    \n",
    "    # Try to grab the height and mass of characters if they are available in the Star Wars API\n",
    "    try: \n",
    "        city_name.append(response_json['name'])\n",
    "        country.append(response_json[\"sys\"][\"country\"])\n",
    "        date.append(response_json[\"dt\"])\n",
    "        latitude.append(response_json[\"coord\"][\"lat\"])\n",
    "        longitude.append(response_json[\"coord\"][\"lon\"])\n",
    "        max_temperature.append(response_json[\"main\"][\"temp_max\"])\n",
    "        humidity.append(response_json[\"main\"][\"humidity\"])\n",
    "        cloudiness.append(response_json[\"clouds\"][\"all\"])\n",
    "        wind_speed.append(response_json[\"wind\"][\"speed\"])\n",
    "        city_record = response_json[\"name\"]\n",
    "        \n",
    "        if proc_num < 49:\n",
    "            proc_num+=1\n",
    "        else:\n",
    "            proc_num = 0\n",
    "            set_num+=1\n",
    "       \n",
    "        print(f\"Processing Record {proc_num} of Set {set_num} | {city_record}\")\n",
    "    # Handle exceptions for a character that is not available in the Star Wars API\n",
    "    except:   \n",
    "        print(\"City not found. Skipping...\") \n",
    "        \n",
    "        pass\n",
    "\n",
    "print(f\"-------------------------------\")\n",
    "print(f\"Data Retrieval Complete\")\n",
    "print(f\"-------------------------------\")"
   ]
  },
  {
   "cell_type": "markdown",
   "metadata": {},
   "source": [
    "### Convert Raw Data to DataFrame\n",
    "* Export the city data into a .csv.\n",
    "* Display the DataFrame"
   ]
  },
  {
   "cell_type": "code",
   "execution_count": 6,
   "metadata": {},
   "outputs": [
    {
     "data": {
      "text/html": [
       "<div>\n",
       "<style scoped>\n",
       "    .dataframe tbody tr th:only-of-type {\n",
       "        vertical-align: middle;\n",
       "    }\n",
       "\n",
       "    .dataframe tbody tr th {\n",
       "        vertical-align: top;\n",
       "    }\n",
       "\n",
       "    .dataframe thead th {\n",
       "        text-align: right;\n",
       "    }\n",
       "</style>\n",
       "<table border=\"1\" class=\"dataframe\">\n",
       "  <thead>\n",
       "    <tr style=\"text-align: right;\">\n",
       "      <th></th>\n",
       "      <th>City</th>\n",
       "      <th>Country</th>\n",
       "      <th>Date</th>\n",
       "      <th>Latitude</th>\n",
       "      <th>Longitude</th>\n",
       "      <th>Max Temperature</th>\n",
       "      <th>Humidity</th>\n",
       "      <th>Cloudiness</th>\n",
       "      <th>Wind Speed</th>\n",
       "    </tr>\n",
       "  </thead>\n",
       "  <tbody>\n",
       "    <tr>\n",
       "      <th>0</th>\n",
       "      <td>Ferrol</td>\n",
       "      <td>ES</td>\n",
       "      <td>1666053704</td>\n",
       "      <td>43.4832</td>\n",
       "      <td>-8.2369</td>\n",
       "      <td>65.34</td>\n",
       "      <td>79</td>\n",
       "      <td>100</td>\n",
       "      <td>5.59</td>\n",
       "    </tr>\n",
       "    <tr>\n",
       "      <th>1</th>\n",
       "      <td>Kapaa</td>\n",
       "      <td>US</td>\n",
       "      <td>1666053704</td>\n",
       "      <td>22.0752</td>\n",
       "      <td>-159.3190</td>\n",
       "      <td>84.18</td>\n",
       "      <td>69</td>\n",
       "      <td>0</td>\n",
       "      <td>9.22</td>\n",
       "    </tr>\n",
       "    <tr>\n",
       "      <th>2</th>\n",
       "      <td>Deep River</td>\n",
       "      <td>CA</td>\n",
       "      <td>1666053705</td>\n",
       "      <td>46.1001</td>\n",
       "      <td>-77.4995</td>\n",
       "      <td>46.15</td>\n",
       "      <td>98</td>\n",
       "      <td>35</td>\n",
       "      <td>5.19</td>\n",
       "    </tr>\n",
       "    <tr>\n",
       "      <th>3</th>\n",
       "      <td>Ushuaia</td>\n",
       "      <td>AR</td>\n",
       "      <td>1666053488</td>\n",
       "      <td>-54.8000</td>\n",
       "      <td>-68.3000</td>\n",
       "      <td>44.26</td>\n",
       "      <td>81</td>\n",
       "      <td>100</td>\n",
       "      <td>12.66</td>\n",
       "    </tr>\n",
       "    <tr>\n",
       "      <th>4</th>\n",
       "      <td>Russellville</td>\n",
       "      <td>US</td>\n",
       "      <td>1666053687</td>\n",
       "      <td>35.2784</td>\n",
       "      <td>-93.1338</td>\n",
       "      <td>57.34</td>\n",
       "      <td>34</td>\n",
       "      <td>0</td>\n",
       "      <td>8.05</td>\n",
       "    </tr>\n",
       "  </tbody>\n",
       "</table>\n",
       "</div>"
      ],
      "text/plain": [
       "           City Country        Date  Latitude  Longitude  Max Temperature  \\\n",
       "0        Ferrol      ES  1666053704   43.4832    -8.2369            65.34   \n",
       "1         Kapaa      US  1666053704   22.0752  -159.3190            84.18   \n",
       "2    Deep River      CA  1666053705   46.1001   -77.4995            46.15   \n",
       "3       Ushuaia      AR  1666053488  -54.8000   -68.3000            44.26   \n",
       "4  Russellville      US  1666053687   35.2784   -93.1338            57.34   \n",
       "\n",
       "   Humidity  Cloudiness  Wind Speed  \n",
       "0        79         100        5.59  \n",
       "1        69           0        9.22  \n",
       "2        98          35        5.19  \n",
       "3        81         100       12.66  \n",
       "4        34           0        8.05  "
      ]
     },
     "execution_count": 6,
     "metadata": {},
     "output_type": "execute_result"
    }
   ],
   "source": [
    "# Create a DataFrame from Cities, Latitude, Longitude, Temperature, Humidity, Cloudiness & Wind Speed\n",
    "weather_dictionary = {\n",
    "    \"City\": city_name,\n",
    "    \"Country\": country,\n",
    "    \"Date\": date,\n",
    "    \"Latitude\": latitude,\n",
    "    \"Longitude\": longitude,\n",
    "    \"Max Temperature\": max_temperature,\n",
    "    \"Humidity\": humidity,\n",
    "    \"Cloudiness\": cloudiness,\n",
    "    \"Wind Speed\": wind_speed\n",
    "}\n",
    "\n",
    "weather_data = pd.DataFrame(weather_dictionary)\n",
    "\n",
    "# Display DataFrame\n",
    "weather_data.head()"
   ]
  },
  {
   "cell_type": "code",
   "execution_count": 7,
   "metadata": {},
   "outputs": [],
   "source": [
    "weather_data.to_csv(\"../output_data/weather_data.csv\")"
   ]
  },
  {
   "cell_type": "markdown",
   "metadata": {},
   "source": [
    "## Inspect the data and remove the cities where the humidity > 100%.\n",
    "----\n",
    "Skip this step if there are no cities that have humidity > 100%. "
   ]
  },
  {
   "cell_type": "code",
   "execution_count": 8,
   "metadata": {},
   "outputs": [
    {
     "data": {
      "text/plain": [
       "100"
      ]
     },
     "execution_count": 8,
     "metadata": {},
     "output_type": "execute_result"
    }
   ],
   "source": [
    "humid_hundop = weather_data[\"Humidity\"].max()\n",
    "humid_hundop"
   ]
  },
  {
   "cell_type": "code",
   "execution_count": 9,
   "metadata": {},
   "outputs": [],
   "source": [
    "#  Get the indices of cities that have humidity over 100%.\n"
   ]
  },
  {
   "cell_type": "code",
   "execution_count": 10,
   "metadata": {},
   "outputs": [],
   "source": [
    "# Make a new DataFrame equal to the city data to drop all humidity outliers by index.\n",
    "# Passing \"inplace=False\" will make a copy of the city_data DataFrame, which we call \"clean_city_data\".\n"
   ]
  },
  {
   "cell_type": "code",
   "execution_count": null,
   "metadata": {},
   "outputs": [],
   "source": [
    "\n"
   ]
  },
  {
   "cell_type": "markdown",
   "metadata": {},
   "source": [
    "## Plotting the Data\n",
    "* Use proper labeling of the plots using plot titles (including date of analysis) and axes labels.\n",
    "* Save the plotted figures as .pngs."
   ]
  },
  {
   "cell_type": "markdown",
   "metadata": {},
   "source": [
    "## Latitude vs. Temperature Plot"
   ]
  },
  {
   "cell_type": "code",
   "execution_count": 11,
   "metadata": {
    "scrolled": true
   },
   "outputs": [
    {
     "data": {
      "image/png": "[encoded data removed]",
      "text/plain": [
       "<Figure size 432x288 with 1 Axes>"
      ]
     },
     "metadata": {
      "needs_background": "light"
     },
     "output_type": "display_data"
    }
   ],
   "source": [
    "lat_v_temp = weather_data.plot(kind = \"scatter\", x=\"Latitude\", y=\"Max Temperature\", \n",
    "                                      title=\"City Latitude vs. Max Temperature\")\n",
    "lat_v_temp.get_figure().savefig(\"../output_data/Fig1.png\")"
   ]
  },
  {
   "cell_type": "markdown",
   "metadata": {},
   "source": [
    "## Latitude vs. Humidity Plot"
   ]
  },
  {
   "cell_type": "code",
   "execution_count": 12,
   "metadata": {},
   "outputs": [
    {
     "data": {
      "image/png": "[encoded data removed]",
      "text/plain": [
       "<Figure size 432x288 with 1 Axes>"
      ]
     },
     "metadata": {
      "needs_background": "light"
     },
     "output_type": "display_data"
    }
   ],
   "source": [
    "lat_v_Hum = weather_data.plot(kind = \"scatter\", x=\"Latitude\", y=\"Humidity\", \n",
    "                                      title=\"City Latitude vs. Humidity\")\n",
    "lat_v_Hum.get_figure().savefig(\"../output_data/Fig2.png\")"
   ]
  },
  {
   "cell_type": "markdown",
   "metadata": {},
   "source": [
    "## Latitude vs. Cloudiness Plot"
   ]
  },
  {
   "cell_type": "code",
   "execution_count": 13,
   "metadata": {},
   "outputs": [
    {
     "data": {
      "image/png": "[encoded data removed]",
      "text/plain": [
       "<Figure size 432x288 with 1 Axes>"
      ]
     },
     "metadata": {
      "needs_background": "light"
     },
     "output_type": "display_data"
    }
   ],
   "source": [
    "lat_v_cloud = weather_data.plot(kind = \"scatter\", x=\"Latitude\", y=\"Cloudiness\", \n",
    "                                      title=\"City Latitude vs. Cloudiness\")\n",
    "lat_v_cloud.get_figure().savefig(\"../output_data/Fig3.png\")"
   ]
  },
  {
   "cell_type": "markdown",
   "metadata": {},
   "source": [
    "## Latitude vs. Wind Speed Plot"
   ]
  },
  {
   "cell_type": "code",
   "execution_count": 14,
   "metadata": {},
   "outputs": [
    {
     "data": {
      "image/png": "[encoded data removed]",
      "text/plain": [
       "<Figure size 432x288 with 1 Axes>"
      ]
     },
     "metadata": {
      "needs_background": "light"
     },
     "output_type": "display_data"
    }
   ],
   "source": [
    "lat_v_wind = weather_data.plot(kind = \"scatter\", x=\"Latitude\", y=\"Wind Speed\", \n",
    "                                      title=\"City Latitude vs. Wind Speed\")\n",
    "lat_v_wind.get_figure().savefig(\"../output_data/Fig4.png\")"
   ]
  },
  {
   "cell_type": "markdown",
   "metadata": {},
   "source": [
    "## Linear Regression"
   ]
  },
  {
   "cell_type": "code",
   "execution_count": null,
   "metadata": {},
   "outputs": [],
   "source": []
  },
  {
   "cell_type": "markdown",
   "metadata": {},
   "source": [
    "####  Northern Hemisphere - Max Temp vs. Latitude Linear Regression"
   ]
  },
  {
   "cell_type": "code",
   "execution_count": 15,
   "metadata": {},
   "outputs": [
    {
     "name": "stdout",
     "output_type": "stream",
     "text": [
      "The r-value is: 0.7002414572150769\n"
     ]
    },
    {
     "data": {
      "image/png": "[encoded data removed]",
      "text/plain": [
       "<Figure size 432x288 with 1 Axes>"
      ]
     },
     "metadata": {
      "needs_background": "light"
     },
     "output_type": "display_data"
    }
   ],
   "source": [
    "n_lat = weather_data.loc[weather_data[\"Latitude\"] >= 0]\n",
    "s_lat = weather_data.loc[weather_data[\"Latitude\"] < 0]\n",
    "(slope, intercept, rvalue, pvalue, stderr) = linregress(n_lat[\"Latitude\"],n_lat[\"Max Temperature\"])\n",
    "regress_values = (n_lat[\"Latitude\"]) * slope + intercept\n",
    "\n",
    "line_eq = \"y = \" + str(round(slope,2)) + \"x +\" + str(round(intercept,2))\n",
    "\n",
    "plt.scatter(n_lat[\"Latitude\"],n_lat[\"Max Temperature\"])\n",
    "plt.plot(n_lat[\"Latitude\"],regress_values,\"r-\")\n",
    "\n",
    "# Label plot and annotate the line equation\n",
    "plt.xlabel('Latitude')\n",
    "plt.ylabel('Max Temp')\n",
    "plt.annotate(line_eq,(20,15),fontsize=15,color=\"red\")\n",
    "\n",
    "# Print r value\n",
    "print(f\"The r-value is: {rvalue**2}\")\n",
    "\n",
    "# Show plot\n",
    "plt.show()\n"
   ]
  },
  {
   "cell_type": "markdown",
   "metadata": {},
   "source": [
    "####  Southern Hemisphere - Max Temp vs. Latitude Linear Regression"
   ]
  },
  {
   "cell_type": "code",
   "execution_count": 16,
   "metadata": {},
   "outputs": [
    {
     "name": "stdout",
     "output_type": "stream",
     "text": [
      "The r-value is: 0.5036759450694852\n"
     ]
    },
    {
     "data": {
      "image/png": "[encoded data removed]",
      "text/plain": [
       "<Figure size 432x288 with 1 Axes>"
      ]
     },
     "metadata": {
      "needs_background": "light"
     },
     "output_type": "display_data"
    }
   ],
   "source": [
    "(slope, intercept, rvalue, pvalue, stderr) = linregress(s_lat[\"Latitude\"],s_lat[\"Max Temperature\"])\n",
    "regress_values = (s_lat[\"Latitude\"]) * slope + intercept\n",
    "\n",
    "line_eq = \"y = \" + str(round(slope,2)) + \"x +\" + str(round(intercept,2))\n",
    "\n",
    "plt.scatter(s_lat[\"Latitude\"],s_lat[\"Max Temperature\"])\n",
    "plt.plot(s_lat[\"Latitude\"],regress_values,\"r-\")\n",
    "\n",
    "# Label plot and annotate the line equation\n",
    "plt.xlabel('Latitude')\n",
    "plt.ylabel('Max Temp')\n",
    "plt.annotate(line_eq,(20,15),fontsize=15,color=\"red\")\n",
    "\n",
    "# Print r value\n",
    "print(f\"The r-value is: {rvalue**2}\")\n",
    "\n",
    "# Show plot\n",
    "plt.show()"
   ]
  },
  {
   "cell_type": "markdown",
   "metadata": {},
   "source": [
    "####  Northern Hemisphere - Humidity (%) vs. Latitude Linear Regression"
   ]
  },
  {
   "cell_type": "code",
   "execution_count": 17,
   "metadata": {},
   "outputs": [
    {
     "name": "stdout",
     "output_type": "stream",
     "text": [
      "The r-value is: 0.016334205354418548\n"
     ]
    },
    {
     "data": {
      "image/png": "[encoded data removed]",
      "text/plain": [
       "<Figure size 432x288 with 1 Axes>"
      ]
     },
     "metadata": {
      "needs_background": "light"
     },
     "output_type": "display_data"
    }
   ],
   "source": [
    "(slope, intercept, rvalue, pvalue, stderr) = linregress(n_lat[\"Latitude\"],n_lat[\"Humidity\"])\n",
    "regress_values = (n_lat[\"Latitude\"]) * slope + intercept\n",
    "\n",
    "line_eq = \"y = \" + str(round(slope,2)) + \"x +\" + str(round(intercept,2))\n",
    "\n",
    "plt.scatter(n_lat[\"Latitude\"],n_lat[\"Humidity\"])\n",
    "plt.plot(n_lat[\"Latitude\"],regress_values,\"r-\")\n",
    "\n",
    "# Label plot and annotate the line equation\n",
    "plt.xlabel('Latitude')\n",
    "plt.ylabel('Humidity')\n",
    "plt.annotate(line_eq,(20,15),fontsize=15,color=\"red\")\n",
    "\n",
    "# Print r value\n",
    "print(f\"The r-value is: {rvalue**2}\")\n",
    "\n",
    "# Show plot\n",
    "plt.show()\n"
   ]
  },
  {
   "cell_type": "markdown",
   "metadata": {},
   "source": [
    "####  Southern Hemisphere - Humidity (%) vs. Latitude Linear Regression"
   ]
  },
  {
   "cell_type": "code",
   "execution_count": 18,
   "metadata": {},
   "outputs": [
    {
     "name": "stdout",
     "output_type": "stream",
     "text": [
      "The r-value is: 0.05961003812733228\n"
     ]
    },
    {
     "data": {
      "image/png": "[encoded data removed]",
      "text/plain": [
       "<Figure size 432x288 with 1 Axes>"
      ]
     },
     "metadata": {
      "needs_background": "light"
     },
     "output_type": "display_data"
    }
   ],
   "source": [
    "(slope, intercept, rvalue, pvalue, stderr) = linregress(s_lat[\"Latitude\"],s_lat[\"Humidity\"])\n",
    "regress_values = (s_lat[\"Latitude\"]) * slope + intercept\n",
    "\n",
    "line_eq = \"y = \" + str(round(slope,2)) + \"x +\" + str(round(intercept,2))\n",
    "\n",
    "plt.scatter(s_lat[\"Latitude\"],s_lat[\"Humidity\"])\n",
    "plt.plot(s_lat[\"Latitude\"],regress_values,\"r-\")\n",
    "\n",
    "# Label plot and annotate the line equation\n",
    "plt.xlabel('Latitude')\n",
    "plt.ylabel('Humidity')\n",
    "plt.annotate(line_eq,(20,15),fontsize=15,color=\"red\")\n",
    "\n",
    "# Print r value\n",
    "print(f\"The r-value is: {rvalue**2}\")\n",
    "\n",
    "# Show plot\n",
    "plt.show()"
   ]
  },
  {
   "cell_type": "markdown",
   "metadata": {},
   "source": [
    "####  Northern Hemisphere - Cloudiness (%) vs. Latitude Linear Regression"
   ]
  },
  {
   "cell_type": "code",
   "execution_count": 19,
   "metadata": {},
   "outputs": [
    {
     "name": "stdout",
     "output_type": "stream",
     "text": [
      "The r-value is: 0.015690628788289782\n"
     ]
    },
    {
     "data": {
      "image/png": "[encoded data removed]",
      "text/plain": [
       "<Figure size 432x288 with 1 Axes>"
      ]
     },
     "metadata": {
      "needs_background": "light"
     },
     "output_type": "display_data"
    }
   ],
   "source": [
    "(slope, intercept, rvalue, pvalue, stderr) = linregress(n_lat[\"Latitude\"],n_lat[\"Cloudiness\"])\n",
    "regress_values = (n_lat[\"Latitude\"]) * slope + intercept\n",
    "\n",
    "line_eq = \"y = \" + str(round(slope,2)) + \"x +\" + str(round(intercept,2))\n",
    "\n",
    "plt.scatter(n_lat[\"Latitude\"],n_lat[\"Cloudiness\"])\n",
    "plt.plot(n_lat[\"Latitude\"],regress_values,\"r-\")\n",
    "\n",
    "# Label plot and annotate the line equation\n",
    "plt.xlabel('Latitude')\n",
    "plt.ylabel('Cloudiness')\n",
    "plt.annotate(line_eq,(20,15),fontsize=15,color=\"red\")\n",
    "\n",
    "# Print r value\n",
    "print(f\"The r-value is: {rvalue**2}\")\n",
    "\n",
    "# Show plot\n",
    "plt.show()\n"
   ]
  },
  {
   "cell_type": "markdown",
   "metadata": {},
   "source": [
    "####  Southern Hemisphere - Cloudiness (%) vs. Latitude Linear Regression"
   ]
  },
  {
   "cell_type": "code",
   "execution_count": 20,
   "metadata": {},
   "outputs": [
    {
     "name": "stdout",
     "output_type": "stream",
     "text": [
      "The r-value is: 0.0015680234635622363\n"
     ]
    },
    {
     "data": {
      "image/png": "[encoded data removed]",
      "text/plain": [
       "<Figure size 432x288 with 1 Axes>"
      ]
     },
     "metadata": {
      "needs_background": "light"
     },
     "output_type": "display_data"
    }
   ],
   "source": [
    "(slope, intercept, rvalue, pvalue, stderr) = linregress(s_lat[\"Latitude\"],s_lat[\"Cloudiness\"])\n",
    "regress_values = (s_lat[\"Latitude\"]) * slope + intercept\n",
    "\n",
    "line_eq = \"y = \" + str(round(slope,2)) + \"x +\" + str(round(intercept,2))\n",
    "\n",
    "plt.scatter(s_lat[\"Latitude\"],s_lat[\"Cloudiness\"])\n",
    "plt.plot(s_lat[\"Latitude\"],regress_values,\"r-\")\n",
    "\n",
    "# Label plot and annotate the line equation\n",
    "plt.xlabel('Latitude')\n",
    "plt.ylabel('Cloudiness')\n",
    "plt.annotate(line_eq,(20,15),fontsize=15,color=\"red\")\n",
    "\n",
    "# Print r value\n",
    "print(f\"The r-value is: {rvalue**2}\")\n",
    "\n",
    "# Show plot\n",
    "plt.show()"
   ]
  },
  {
   "cell_type": "markdown",
   "metadata": {},
   "source": [
    "####  Northern Hemisphere - Wind Speed (mph) vs. Latitude Linear Regression"
   ]
  },
  {
   "cell_type": "code",
   "execution_count": 21,
   "metadata": {},
   "outputs": [
    {
     "name": "stdout",
     "output_type": "stream",
     "text": [
      "The r-value is: 0.030253315707303344\n"
     ]
    },
    {
     "data": {
      "image/png": "[encoded data removed]",
      "text/plain": [
       "<Figure size 432x288 with 1 Axes>"
      ]
     },
     "metadata": {
      "needs_background": "light"
     },
     "output_type": "display_data"
    }
   ],
   "source": [
    "(slope, intercept, rvalue, pvalue, stderr) = linregress(n_lat[\"Latitude\"],n_lat[\"Wind Speed\"])\n",
    "regress_values = (n_lat[\"Latitude\"]) * slope + intercept\n",
    "\n",
    "line_eq = \"y = \" + str(round(slope,2)) + \"x +\" + str(round(intercept,2))\n",
    "\n",
    "plt.scatter(n_lat[\"Latitude\"],n_lat[\"Wind Speed\"])\n",
    "plt.plot(n_lat[\"Latitude\"],regress_values,\"r-\")\n",
    "\n",
    "# Label plot and annotate the line equation\n",
    "plt.xlabel('Latitude')\n",
    "plt.ylabel('WInd Speed')\n",
    "plt.annotate(line_eq,(20,15),fontsize=15,color=\"red\")\n",
    "\n",
    "# Print r value\n",
    "print(f\"The r-value is: {rvalue**2}\")\n",
    "\n",
    "# Show plot\n",
    "plt.show()"
   ]
  },
  {
   "cell_type": "markdown",
   "metadata": {},
   "source": [
    "####  Southern Hemisphere - Wind Speed (mph) vs. Latitude Linear Regression"
   ]
  },
  {
   "cell_type": "code",
   "execution_count": 22,
   "metadata": {},
   "outputs": [
    {
     "name": "stdout",
     "output_type": "stream",
     "text": [
      "The r-value is: 0.053939911581547643\n"
     ]
    },
    {
     "data": {
      "image/png": "[encoded data removed]",
      "text/plain": [
       "<Figure size 432x288 with 1 Axes>"
      ]
     },
     "metadata": {
      "needs_background": "light"
     },
     "output_type": "display_data"
    }
   ],
   "source": [
    "(slope, intercept, rvalue, pvalue, stderr) = linregress(s_lat[\"Latitude\"],s_lat[\"Wind Speed\"])\n",
    "regress_values = (s_lat[\"Latitude\"]) * slope + intercept\n",
    "\n",
    "line_eq = \"y = \" + str(round(slope,2)) + \"x +\" + str(round(intercept,2))\n",
    "\n",
    "plt.scatter(s_lat[\"Latitude\"],s_lat[\"Wind Speed\"])\n",
    "plt.plot(s_lat[\"Latitude\"],regress_values,\"r-\")\n",
    "\n",
    "# Label plot and annotate the line equation\n",
    "plt.xlabel('Latitude')\n",
    "plt.ylabel('Wind Speed')\n",
    "plt.annotate(line_eq,(20,15),fontsize=15,color=\"red\")\n",
    "\n",
    "# Print r value\n",
    "print(f\"The r-value is: {rvalue**2}\")\n",
    "\n",
    "# Show plot\n",
    "plt.show()"
   ]
  },
  {
   "cell_type": "code",
   "execution_count": null,
   "metadata": {},
   "outputs": [],
   "source": []
  },
  {
   "cell_type": "code",
   "execution_count": null,
   "metadata": {},
   "outputs": [],
   "source": []
  }
 ],
 "metadata": {
  "anaconda-cloud": {},
  "kernel_info": {
   "name": "python3"
  },
  "kernelspec": {
   "display_name": "Python 3 (ipykernel)",
   "language": "python",
   "name": "python3"
  },
  "language_info": {
   "codemirror_mode": {
    "name": "ipython",
    "version": 3
   },
   "file_extension": ".py",
   "mimetype": "text/x-python",
   "name": "python",
   "nbconvert_exporter": "python",
   "pygments_lexer": "ipython3",
   "version": "3.7.7"
  },
  "latex_envs": {
   "LaTeX_envs_menu_present": true,
   "autoclose": false,
   "autocomplete": true,
   "bibliofile": "biblio.bib",
   "cite_by": "apalike",
   "current_citInitial": 1,
   "eqLabelWithNumbers": true,
   "eqNumInitial": 1,
   "hotkeys": {
    "equation": "Ctrl-E",
    "itemize": "Ctrl-I"
   },
   "labels_anchors": false,
   "latex_user_defs": false,
   "report_style_numbering": false,
   "user_envs_cfg": false
  },
  "nteract": {
   "version": "0.12.3"
  }
 },
 "nbformat": 4,
 "nbformat_minor": 2
}
